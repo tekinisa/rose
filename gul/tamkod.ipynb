{
 "cells": [
  {
   "cell_type": "code",
   "execution_count": 1,
   "metadata": {},
   "outputs": [],
   "source": [
    "import cv2\n",
    "import numpy as np\n",
    "\n",
    "# Görselin dosya yolu \n",
    "image_path = \"C:/Users/tekin/Desktop/gul/gul.jpg\"  # Kendi kullanıcı adınıza göre güncelleyin\n",
    "\n",
    "# Görseli yükle\n",
    "image = cv2.imread(image_path)\n",
    "\n",
    "# Görselin doğru yüklendiğinden emin olun. Başta Dosya yolunu yanlış girdiğim için ekledim.\n",
    "if image is None:\n",
    "    print(\"Görsel yüklenemedi. Lütfen dosya yolunun doğru olduğundan emin olun.\")\n",
    "else:\n",
    "    # Görsel BGR modunda yüklendiğinden RGB'ye dönüştür\n",
    "    image = cv2.cvtColor(image, cv2.COLOR_BGR2RGB)\n",
    "\n",
    "    # Yeni renkleri tanımla\n",
    "    rose_color = [79, 0, 128]  # Gül için RGB renk kodu mor \n",
    "    background_color = [0, 0, 0]  # Arkaplan için RGB renk kodu\n",
    "\n",
    "    # Gül için bir maske oluştur (gül kırmızı olduğundan ve arkaplan kırmızı olmadığından varsayarak)\n",
    "    rose_mask = (image[:,:,0] > 150) & (image[:,:,1] < 80) & (image[:,:,2] < 80)\n",
    "\n",
    "    # Yeni gül rengini uygula\n",
    "    image[rose_mask] = rose_color\n",
    "\n",
    "    # Yeni arkaplan rengini uygula\n",
    "    image[~rose_mask] = background_color\n",
    "\n",
    "    # Görseli tekrar BGR moduna dönüştür\n",
    "    image = cv2.cvtColor(image, cv2.COLOR_RGB2BGR)\n",
    "    # Yeni görseli kaydet\n",
    "    new_image_path = \"C:/Users/tekin/Desktop/gul/gul_yeni\"  # Kendi kaydetme yolunuzu buraya ekleyin\n",
    "    cv2.imwrite(new_image_path, image)\n",
    "\n",
    "    # Yeni görseli göster (isteğe bağlı)\n",
    "    cv2.imshow('Modified Image', image)\n",
    "    cv2.waitKey(0)\n",
    "    cv2.destroyAllWindows()\n",
    "\n"
   ]
  },
  {
   "cell_type": "code",
   "execution_count": null,
   "metadata": {},
   "outputs": [],
   "source": []
  }
 ],
 "metadata": {
  "kernelspec": {
   "display_name": "base",
   "language": "python",
   "name": "python3"
  },
  "language_info": {
   "codemirror_mode": {
    "name": "ipython",
    "version": 3
   },
   "file_extension": ".py",
   "mimetype": "text/x-python",
   "name": "python",
   "nbconvert_exporter": "python",
   "pygments_lexer": "ipython3",
   "version": "3.11.5"
  }
 },
 "nbformat": 4,
 "nbformat_minor": 2
}
